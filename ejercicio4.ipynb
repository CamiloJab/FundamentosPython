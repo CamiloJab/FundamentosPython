{
  "nbformat": 4,
  "nbformat_minor": 0,
  "metadata": {
    "colab": {
      "provenance": []
    },
    "kernelspec": {
      "name": "python3",
      "display_name": "Python 3"
    },
    "language_info": {
      "name": "python"
    }
  },
  "cells": [
    {
      "cell_type": "code",
      "execution_count": null,
      "metadata": {
        "colab": {
          "base_uri": "https://localhost:8080/"
        },
        "id": "F6yS094ZRWAM",
        "outputId": "e1f23692-2e85-41d3-f982-a6870318a871"
      },
      "outputs": [
        {
          "output_type": "stream",
          "name": "stdout",
          "text": [
            "1\n",
            ",\n",
            "2\n",
            ",\n",
            "3\n",
            ",\n",
            "4\n"
          ]
        }
      ],
      "source": [
        "#for <elemento> in <iterable>:\n",
        "#  <tu codigo>\n",
        "\n",
        "for w in \"1,2,3,4\":\n",
        "  print(w)"
      ]
    },
    {
      "cell_type": "code",
      "source": [
        "for w in \"Cristhyan\":\n",
        "  print(w)"
      ],
      "metadata": {
        "colab": {
          "base_uri": "https://localhost:8080/"
        },
        "id": "rYxetpDaR-BU",
        "outputId": "2c5ff1e3-854a-43fb-dcf0-fd88c4df268e"
      },
      "execution_count": null,
      "outputs": [
        {
          "output_type": "stream",
          "name": "stdout",
          "text": [
            "C\n",
            "r\n",
            "i\n",
            "s\n",
            "t\n",
            "h\n",
            "y\n",
            "a\n",
            "n\n"
          ]
        }
      ]
    },
    {
      "cell_type": "markdown",
      "source": [
        "funcion range o estados(start, stop, step): \n",
        "\n",
        "cuando solo se pasa 1 parametro a la funcion Range por default(stop), el stop siempre sera obligatorio\n"
      ],
      "metadata": {
        "id": "KKaSsb4qSp3U"
      }
    },
    {
      "cell_type": "code",
      "source": [
        "for i in range (11):\n",
        "  print(i)"
      ],
      "metadata": {
        "colab": {
          "base_uri": "https://localhost:8080/"
        },
        "id": "u6pHaykCS4lT",
        "outputId": "1e37c566-b9dd-4c01-a322-408b7d30a4be"
      },
      "execution_count": null,
      "outputs": [
        {
          "output_type": "stream",
          "name": "stdout",
          "text": [
            "0\n",
            "1\n",
            "2\n",
            "3\n",
            "4\n",
            "5\n",
            "6\n",
            "7\n",
            "8\n",
            "9\n",
            "10\n"
          ]
        }
      ]
    },
    {
      "cell_type": "markdown",
      "source": [
        "cuando solo quiero arrncar desde una posicion y acabar en otra "
      ],
      "metadata": {
        "id": "jw_91rjDTLHi"
      }
    },
    {
      "cell_type": "code",
      "source": [
        "for i in range (3,11):\n",
        "  print(i)"
      ],
      "metadata": {
        "colab": {
          "base_uri": "https://localhost:8080/"
        },
        "id": "6DYj7DOuTULV",
        "outputId": "c04e374d-855b-473d-b985-6032e65925ef"
      },
      "execution_count": null,
      "outputs": [
        {
          "output_type": "stream",
          "name": "stdout",
          "text": [
            "3\n",
            "4\n",
            "5\n",
            "6\n",
            "7\n",
            "8\n",
            "9\n",
            "10\n"
          ]
        }
      ]
    },
    {
      "cell_type": "markdown",
      "source": [
        "cuando solo se pasa 1 parametro a la funcion Range por default (stop)"
      ],
      "metadata": {
        "id": "fOEo8rriTZGK"
      }
    },
    {
      "cell_type": "code",
      "source": [
        "for i in range (0,11,2):\n",
        "  print(i)"
      ],
      "metadata": {
        "colab": {
          "base_uri": "https://localhost:8080/"
        },
        "id": "voksPF2lTpoi",
        "outputId": "4489e3ff-1ad2-43fd-8f89-0c0449f55366"
      },
      "execution_count": null,
      "outputs": [
        {
          "output_type": "stream",
          "name": "stdout",
          "text": [
            "0\n",
            "2\n",
            "4\n",
            "6\n",
            "8\n",
            "10\n"
          ]
        }
      ]
    },
    {
      "cell_type": "markdown",
      "source": [
        "Crear un bucle que cuente todos los números pares hasta\n",
        "el 100 ciclo for"
      ],
      "metadata": {
        "id": "RUiX1MP1dUXF"
      }
    },
    {
      "cell_type": "code",
      "source": [
        "for i in range (0,100,2):\n",
        "  print(i)"
      ],
      "metadata": {
        "id": "bs3FbqpWdVJj",
        "outputId": "62b18e4b-366d-4067-c3bd-fc95660138e7",
        "colab": {
          "base_uri": "https://localhost:8080/"
        }
      },
      "execution_count": null,
      "outputs": [
        {
          "output_type": "stream",
          "name": "stdout",
          "text": [
            "0\n",
            "2\n",
            "4\n",
            "6\n",
            "8\n",
            "10\n",
            "12\n",
            "14\n",
            "16\n",
            "18\n",
            "20\n",
            "22\n",
            "24\n",
            "26\n",
            "28\n",
            "30\n",
            "32\n",
            "34\n",
            "36\n",
            "38\n",
            "40\n",
            "42\n",
            "44\n",
            "46\n",
            "48\n",
            "50\n",
            "52\n",
            "54\n",
            "56\n",
            "58\n",
            "60\n",
            "62\n",
            "64\n",
            "66\n",
            "68\n",
            "70\n",
            "72\n",
            "74\n",
            "76\n",
            "78\n",
            "80\n",
            "82\n",
            "84\n",
            "86\n",
            "88\n",
            "90\n",
            "92\n",
            "94\n",
            "96\n",
            "98\n"
          ]
        }
      ]
    },
    {
      "cell_type": "markdown",
      "source": [
        "Haz una tabla de multiplicar utilizando el ciclo for\n",
        "ciclo for"
      ],
      "metadata": {
        "id": "aTP4PgApoWke"
      }
    },
    {
      "cell_type": "code",
      "source": [
        "num = int(input(\"Digite el número de la tyabla de multiplicar: \"))\n",
        "for i in range(11):\n",
        "  print(i, \" x \", num , \" = \", i * num)"
      ],
      "metadata": {
        "colab": {
          "base_uri": "https://localhost:8080/"
        },
        "id": "WKT7splKoXpf",
        "outputId": "9597e88f-195b-44f7-f037-2199539d2b76"
      },
      "execution_count": null,
      "outputs": [
        {
          "output_type": "stream",
          "name": "stdout",
          "text": [
            "Digite el número de la tyabla de multiplicar: 2\n",
            "0  x  2  =  0\n",
            "1  x  2  =  2\n",
            "2  x  2  =  4\n",
            "3  x  2  =  6\n",
            "4  x  2  =  8\n",
            "5  x  2  =  10\n",
            "6  x  2  =  12\n",
            "7  x  2  =  14\n",
            "8  x  2  =  16\n",
            "9  x  2  =  18\n",
            "10  x  2  =  20\n"
          ]
        }
      ]
    },
    {
      "cell_type": "markdown",
      "source": [
        "Escribir un programa que pregunte al usuario su edad y\n",
        "muestre por pantalla todos los años que ha cumplido\n",
        "(desde 1 hasta su edad). ciclo for"
      ],
      "metadata": {
        "id": "q5Au97M8odm-"
      }
    },
    {
      "cell_type": "code",
      "source": [
        "edad = int(input(\"Por favor digite su edad \"))\n",
        "\n",
        "for i in range(1,edad,1):\n",
        "  print(i)"
      ],
      "metadata": {
        "id": "X_d0jwmYoeP2",
        "colab": {
          "base_uri": "https://localhost:8080/"
        },
        "outputId": "5b2a6122-252a-4bad-fd0c-dc1116f9c11c"
      },
      "execution_count": 6,
      "outputs": [
        {
          "output_type": "stream",
          "name": "stdout",
          "text": [
            "Por favor digite su edad 32\n",
            "1\n",
            "2\n",
            "3\n",
            "4\n",
            "5\n",
            "6\n",
            "7\n",
            "8\n",
            "9\n",
            "10\n",
            "11\n",
            "12\n",
            "13\n",
            "14\n",
            "15\n",
            "16\n",
            "17\n",
            "18\n",
            "19\n",
            "20\n",
            "21\n",
            "22\n",
            "23\n",
            "24\n",
            "25\n",
            "26\n",
            "27\n",
            "28\n",
            "29\n",
            "30\n",
            "31\n"
          ]
        }
      ]
    },
    {
      "cell_type": "markdown",
      "source": [
        "Escribir un programa que pida al usuario un número entero\n",
        "positivo y muestre por pantalla todos los números\n",
        "impares desde 1 hasta ese número separados por comas.\n"
      ],
      "metadata": {
        "id": "ZWU4Hv0OOb7Q"
      }
    },
    {
      "cell_type": "code",
      "source": [
        "acu = 1\n",
        "\n",
        "num = int(input(\"Digite un numero entero positivo \"))\n",
        "\n",
        "for i in range(1, num, 2):\n",
        "  acu = acu + 2\n",
        "  print(f\"Los números impares del 1 al {num} son = {acu}\")"
      ],
      "metadata": {
        "colab": {
          "base_uri": "https://localhost:8080/"
        },
        "id": "inJBD1NlOfhZ",
        "outputId": "65dcd1af-1b08-435b-c59e-2077b9cffd61"
      },
      "execution_count": 34,
      "outputs": [
        {
          "output_type": "stream",
          "name": "stdout",
          "text": [
            "Digite un numero entero positivo 4\n",
            "Los números impares del 1 al 4 son = 3\n",
            "Los números impares del 1 al 4 son = 5\n"
          ]
        }
      ]
    },
    {
      "cell_type": "markdown",
      "source": [
        "Encuentra la suma de todos los números pares del 1 al\n",
        "100 ciclo for"
      ],
      "metadata": {
        "id": "B1DKP4XCS9e4"
      }
    },
    {
      "cell_type": "code",
      "source": [
        "# variable que acumula\n",
        "acu = 0\n",
        "\n",
        "for i in range(0,100,2):\n",
        "  # print(i)\n",
        "  acu = acu + i\n",
        "  print(f\"El total de la suma de los números pares del 0-10= {acu}\")"
      ],
      "metadata": {
        "colab": {
          "base_uri": "https://localhost:8080/"
        },
        "id": "edGauH9-S99I",
        "outputId": "7256f4f5-7129-43b8-b580-9e07f3808281"
      },
      "execution_count": 35,
      "outputs": [
        {
          "output_type": "stream",
          "name": "stdout",
          "text": [
            "El total de la suma de los números pares del 0-10= 0\n",
            "El total de la suma de los números pares del 0-10= 2\n",
            "El total de la suma de los números pares del 0-10= 6\n",
            "El total de la suma de los números pares del 0-10= 12\n",
            "El total de la suma de los números pares del 0-10= 20\n",
            "El total de la suma de los números pares del 0-10= 30\n",
            "El total de la suma de los números pares del 0-10= 42\n",
            "El total de la suma de los números pares del 0-10= 56\n",
            "El total de la suma de los números pares del 0-10= 72\n",
            "El total de la suma de los números pares del 0-10= 90\n",
            "El total de la suma de los números pares del 0-10= 110\n",
            "El total de la suma de los números pares del 0-10= 132\n",
            "El total de la suma de los números pares del 0-10= 156\n",
            "El total de la suma de los números pares del 0-10= 182\n",
            "El total de la suma de los números pares del 0-10= 210\n",
            "El total de la suma de los números pares del 0-10= 240\n",
            "El total de la suma de los números pares del 0-10= 272\n",
            "El total de la suma de los números pares del 0-10= 306\n",
            "El total de la suma de los números pares del 0-10= 342\n",
            "El total de la suma de los números pares del 0-10= 380\n",
            "El total de la suma de los números pares del 0-10= 420\n",
            "El total de la suma de los números pares del 0-10= 462\n",
            "El total de la suma de los números pares del 0-10= 506\n",
            "El total de la suma de los números pares del 0-10= 552\n",
            "El total de la suma de los números pares del 0-10= 600\n",
            "El total de la suma de los números pares del 0-10= 650\n",
            "El total de la suma de los números pares del 0-10= 702\n",
            "El total de la suma de los números pares del 0-10= 756\n",
            "El total de la suma de los números pares del 0-10= 812\n",
            "El total de la suma de los números pares del 0-10= 870\n",
            "El total de la suma de los números pares del 0-10= 930\n",
            "El total de la suma de los números pares del 0-10= 992\n",
            "El total de la suma de los números pares del 0-10= 1056\n",
            "El total de la suma de los números pares del 0-10= 1122\n",
            "El total de la suma de los números pares del 0-10= 1190\n",
            "El total de la suma de los números pares del 0-10= 1260\n",
            "El total de la suma de los números pares del 0-10= 1332\n",
            "El total de la suma de los números pares del 0-10= 1406\n",
            "El total de la suma de los números pares del 0-10= 1482\n",
            "El total de la suma de los números pares del 0-10= 1560\n",
            "El total de la suma de los números pares del 0-10= 1640\n",
            "El total de la suma de los números pares del 0-10= 1722\n",
            "El total de la suma de los números pares del 0-10= 1806\n",
            "El total de la suma de los números pares del 0-10= 1892\n",
            "El total de la suma de los números pares del 0-10= 1980\n",
            "El total de la suma de los números pares del 0-10= 2070\n",
            "El total de la suma de los números pares del 0-10= 2162\n",
            "El total de la suma de los números pares del 0-10= 2256\n",
            "El total de la suma de los números pares del 0-10= 2352\n",
            "El total de la suma de los números pares del 0-10= 2450\n"
          ]
        }
      ]
    }
  ]
}